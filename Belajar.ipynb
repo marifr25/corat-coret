{
 "cells": [
  {
   "cell_type": "code",
   "execution_count": 1,
   "id": "0d56f6ad-e83e-4aa1-ac15-c86066d0501d",
   "metadata": {},
   "outputs": [],
   "source": [
    "tinggi_badan = 173"
   ]
  },
  {
   "cell_type": "code",
   "execution_count": 2,
   "id": "30a974c1-85aa-4168-b3d8-29f059cc33fa",
   "metadata": {},
   "outputs": [
    {
     "name": "stdout",
     "output_type": "stream",
     "text": [
      "173\n"
     ]
    }
   ],
   "source": [
    "print(tinggi_badan)"
   ]
  },
  {
   "cell_type": "code",
   "execution_count": 3,
   "id": "4082bb70-12a2-45aa-80d6-91c932868a09",
   "metadata": {},
   "outputs": [],
   "source": [
    "nama = \"arif\""
   ]
  },
  {
   "cell_type": "code",
   "execution_count": 4,
   "id": "74cb2112-671b-4d94-ae31-64c29870cb8f",
   "metadata": {},
   "outputs": [
    {
     "data": {
      "text/plain": [
       "'arif'"
      ]
     },
     "execution_count": 4,
     "metadata": {},
     "output_type": "execute_result"
    }
   ],
   "source": [
    "nama"
   ]
  },
  {
   "cell_type": "code",
   "execution_count": 5,
   "id": "63041dc2-9242-4969-b7c9-5a32cb0af284",
   "metadata": {},
   "outputs": [
    {
     "name": "stdout",
     "output_type": "stream",
     "text": [
      "arif\n"
     ]
    }
   ],
   "source": [
    "print(nama)"
   ]
  },
  {
   "cell_type": "code",
   "execution_count": 6,
   "id": "06672be4-204f-4fe4-8ad1-39592834729f",
   "metadata": {},
   "outputs": [
    {
     "data": {
      "text/plain": [
       "'arif'"
      ]
     },
     "execution_count": 6,
     "metadata": {},
     "output_type": "execute_result"
    }
   ],
   "source": [
    "tinggi_badan\n",
    "nama"
   ]
  },
  {
   "cell_type": "code",
   "execution_count": 7,
   "id": "a3409461-ff8a-4c04-98f2-ebead9abc75b",
   "metadata": {},
   "outputs": [
    {
     "name": "stdout",
     "output_type": "stream",
     "text": [
      "173\n",
      "arif\n"
     ]
    }
   ],
   "source": [
    "print(tinggi_badan)\n",
    "print(nama)"
   ]
  },
  {
   "cell_type": "code",
   "execution_count": 8,
   "id": "db4feb8a-7b4d-4439-a367-613d0a997fd6",
   "metadata": {},
   "outputs": [
    {
     "data": {
      "text/plain": [
       "173"
      ]
     },
     "execution_count": 8,
     "metadata": {},
     "output_type": "execute_result"
    }
   ],
   "source": [
    "tinggi_badan"
   ]
  },
  {
   "cell_type": "code",
   "execution_count": 9,
   "id": "aec2779b-0539-4bf8-963a-bcc00eb066b1",
   "metadata": {},
   "outputs": [],
   "source": [
    "nama = 'arif'"
   ]
  },
  {
   "cell_type": "code",
   "execution_count": 10,
   "id": "e8e1d2d6-37a9-4a13-92db-3e7ae8402aca",
   "metadata": {},
   "outputs": [
    {
     "data": {
      "text/plain": [
       "'arif'"
      ]
     },
     "execution_count": 10,
     "metadata": {},
     "output_type": "execute_result"
    }
   ],
   "source": [
    "nama"
   ]
  },
  {
   "cell_type": "code",
   "execution_count": 11,
   "id": "71e5eb81-c8b2-4e35-a268-1127a0e90853",
   "metadata": {},
   "outputs": [
    {
     "name": "stdout",
     "output_type": "stream",
     "text": [
      "arif\n"
     ]
    }
   ],
   "source": [
    "print(nama)"
   ]
  },
  {
   "cell_type": "code",
   "execution_count": 12,
   "id": "e26b85cb-c0c8-4ee9-afac-94c7093e39f7",
   "metadata": {},
   "outputs": [],
   "source": [
    "Nama = 'arif'"
   ]
  },
  {
   "cell_type": "code",
   "execution_count": 13,
   "id": "cbf30c81-10d5-45d2-af4e-1aec1d7204a3",
   "metadata": {},
   "outputs": [
    {
     "data": {
      "text/plain": [
       "'arif'"
      ]
     },
     "execution_count": 13,
     "metadata": {},
     "output_type": "execute_result"
    }
   ],
   "source": [
    "Nama"
   ]
  },
  {
   "cell_type": "code",
   "execution_count": 14,
   "id": "bf24ddf1-fecf-427c-a5de-34abface7640",
   "metadata": {},
   "outputs": [
    {
     "data": {
      "text/plain": [
       "'arif'"
      ]
     },
     "execution_count": 14,
     "metadata": {},
     "output_type": "execute_result"
    }
   ],
   "source": [
    "nama"
   ]
  },
  {
   "cell_type": "code",
   "execution_count": 15,
   "id": "90db8a8f-f9f7-427e-b623-6eddc6aadca0",
   "metadata": {},
   "outputs": [
    {
     "data": {
      "text/plain": [
       "5"
      ]
     },
     "execution_count": 15,
     "metadata": {},
     "output_type": "execute_result"
    }
   ],
   "source": [
    "a = 2\n",
    "b = 3\n",
    "penjumlahan = a+b\n",
    "penjumlahan"
   ]
  },
  {
   "cell_type": "code",
   "execution_count": 16,
   "id": "d2c37d53-0362-4c48-96e7-9e26006f4042",
   "metadata": {},
   "outputs": [
    {
     "data": {
      "text/plain": [
       "4"
      ]
     },
     "execution_count": 16,
     "metadata": {},
     "output_type": "execute_result"
    }
   ],
   "source": [
    "a = 3\n",
    "b = 2\n",
    "c = 1\n",
    "d = 0\n",
    "fungsi = (a+b-c)*(a-b)\n",
    "fungsi"
   ]
  },
  {
   "cell_type": "code",
   "execution_count": 17,
   "id": "9377a75c-f7c2-4362-a766-c9e71846986e",
   "metadata": {},
   "outputs": [
    {
     "data": {
      "text/plain": [
       "1.5"
      ]
     },
     "execution_count": 17,
     "metadata": {},
     "output_type": "execute_result"
    }
   ],
   "source": [
    "fungsi = a/b\n",
    "fungsi"
   ]
  },
  {
   "cell_type": "code",
   "execution_count": 18,
   "id": "b121ccb9-cbe1-4297-943c-a86ddc691529",
   "metadata": {},
   "outputs": [
    {
     "data": {
      "text/plain": [
       "2.6666666666666665"
      ]
     },
     "execution_count": 18,
     "metadata": {},
     "output_type": "execute_result"
    }
   ],
   "source": [
    "fungsi = ((a+b-c)*(a-b))/a*b\n",
    "fungsi"
   ]
  },
  {
   "cell_type": "code",
   "execution_count": 19,
   "id": "564c6996-e7ea-4f4c-be00-3b2a21c37144",
   "metadata": {},
   "outputs": [
    {
     "data": {
      "text/plain": [
       "9"
      ]
     },
     "execution_count": 19,
     "metadata": {},
     "output_type": "execute_result"
    }
   ],
   "source": [
    "pangkat = a**b\n",
    "pangkat"
   ]
  },
  {
   "cell_type": "code",
   "execution_count": 20,
   "id": "d9846eb9-1b2f-4a19-9f4a-d0de6d87062f",
   "metadata": {},
   "outputs": [
    {
     "data": {
      "text/plain": [
       "False"
      ]
     },
     "execution_count": 20,
     "metadata": {},
     "output_type": "execute_result"
    }
   ],
   "source": [
    "(a+b-c)*(a-b) == 10"
   ]
  },
  {
   "cell_type": "code",
   "execution_count": 21,
   "id": "194f2cfc-3ba9-49fa-b180-4364a86ae1bd",
   "metadata": {},
   "outputs": [
    {
     "data": {
      "text/plain": [
       "False"
      ]
     },
     "execution_count": 21,
     "metadata": {},
     "output_type": "execute_result"
    }
   ],
   "source": [
    "(a+b-c)*(a-b) == ((a+b-c)*(a-b))/a*b"
   ]
  },
  {
   "cell_type": "code",
   "execution_count": 22,
   "id": "c98506db-9771-43f1-8bf3-fd8816c12e78",
   "metadata": {},
   "outputs": [
    {
     "data": {
      "text/plain": [
       "True"
      ]
     },
     "execution_count": 22,
     "metadata": {},
     "output_type": "execute_result"
    }
   ],
   "source": [
    "(a+b-c)*(a-b) > ((a+b-c)*(a-b))/a*b"
   ]
  },
  {
   "cell_type": "code",
   "execution_count": 23,
   "id": "4cb4d099-1a76-4a31-9b92-0ce792cc35b5",
   "metadata": {},
   "outputs": [
    {
     "data": {
      "text/plain": [
       "True"
      ]
     },
     "execution_count": 23,
     "metadata": {},
     "output_type": "execute_result"
    }
   ],
   "source": [
    "(a+b-c)*(a-b) >= ((a+b-c)*(a-b))/a*b"
   ]
  },
  {
   "cell_type": "code",
   "execution_count": 24,
   "id": "9da92bef-b2a6-4321-be03-66f60fe55424",
   "metadata": {},
   "outputs": [],
   "source": [
    "nama_depan = 'Muhammad'\n",
    "nama_tengah = 'Arif'\n",
    "nama_belakang = 'Rabbani'\n",
    "spasi = ' '\n",
    "nama_guweh = nama_depan + spasi + nama_tengah + spasi + nama_belakang"
   ]
  },
  {
   "cell_type": "code",
   "execution_count": 25,
   "id": "9599a224-023b-49fb-8092-4654eca39780",
   "metadata": {},
   "outputs": [
    {
     "data": {
      "text/plain": [
       "'Muhammad Arif Rabbani'"
      ]
     },
     "execution_count": 25,
     "metadata": {},
     "output_type": "execute_result"
    }
   ],
   "source": [
    "nama_guweh"
   ]
  },
  {
   "cell_type": "code",
   "execution_count": 26,
   "id": "3ae64429-5d1e-4322-ae36-c80613904424",
   "metadata": {},
   "outputs": [
    {
     "data": {
      "text/plain": [
       "'muhammad arif rabbani'"
      ]
     },
     "execution_count": 26,
     "metadata": {},
     "output_type": "execute_result"
    }
   ],
   "source": [
    "nama_guweh.lower()"
   ]
  },
  {
   "cell_type": "code",
   "execution_count": 27,
   "id": "0a748a89-5fd9-4bc1-9520-33c2acd9ccab",
   "metadata": {},
   "outputs": [
    {
     "data": {
      "text/plain": [
       "'MUHAMMAD ARIF RABBANI'"
      ]
     },
     "execution_count": 27,
     "metadata": {},
     "output_type": "execute_result"
    }
   ],
   "source": [
    "nama_guweh.upper()"
   ]
  },
  {
   "cell_type": "code",
   "execution_count": 28,
   "id": "31017c5d-917b-4843-8c1c-3387f9c801d0",
   "metadata": {},
   "outputs": [
    {
     "data": {
      "text/plain": [
       "'muhammad'"
      ]
     },
     "execution_count": 28,
     "metadata": {},
     "output_type": "execute_result"
    }
   ],
   "source": [
    "nama_depan.lower()"
   ]
  },
  {
   "cell_type": "code",
   "execution_count": 29,
   "id": "d3ad7dd6-522e-423f-907f-2e3cc74bc1ed",
   "metadata": {},
   "outputs": [
    {
     "data": {
      "text/plain": [
       "' '"
      ]
     },
     "execution_count": 29,
     "metadata": {},
     "output_type": "execute_result"
    }
   ],
   "source": [
    "spasi.upper()"
   ]
  },
  {
   "cell_type": "code",
   "execution_count": 30,
   "id": "d2b78d20-d1b8-40a6-8312-c86402ede405",
   "metadata": {},
   "outputs": [
    {
     "data": {
      "text/plain": [
       "' '"
      ]
     },
     "execution_count": 30,
     "metadata": {},
     "output_type": "execute_result"
    }
   ],
   "source": [
    "spasi.lower()"
   ]
  },
  {
   "cell_type": "code",
   "execution_count": 31,
   "id": "fa1ab4c4-27cb-471f-b510-87b2fcef15ea",
   "metadata": {},
   "outputs": [
    {
     "data": {
      "text/plain": [
       "'Muhammad Arif Pardede'"
      ]
     },
     "execution_count": 31,
     "metadata": {},
     "output_type": "execute_result"
    }
   ],
   "source": [
    "nama_guweh.replace('Rabbani', \"Pardede\")"
   ]
  },
  {
   "cell_type": "code",
   "execution_count": 32,
   "id": "463d81c7-b20a-4164-93e5-eb5d80adee5d",
   "metadata": {},
   "outputs": [
    {
     "data": {
      "text/plain": [
       "'Muhammad Arif Rabbani'"
      ]
     },
     "execution_count": 32,
     "metadata": {},
     "output_type": "execute_result"
    }
   ],
   "source": [
    "nama_guweh.replace('Pardede', 'Rabbani')"
   ]
  },
  {
   "cell_type": "code",
   "execution_count": 33,
   "id": "9dc2714a-87a7-4141-aeb3-d02525ddf2b2",
   "metadata": {},
   "outputs": [
    {
     "data": {
      "text/plain": [
       "'Muhammad Arif Rabbani'"
      ]
     },
     "execution_count": 33,
     "metadata": {},
     "output_type": "execute_result"
    }
   ],
   "source": [
    "nama_guweh.replace('P', 'R')"
   ]
  },
  {
   "cell_type": "code",
   "execution_count": 34,
   "id": "7de3c20c-9c4e-48fd-9f9f-7a4ceaf8f890",
   "metadata": {},
   "outputs": [
    {
     "data": {
      "text/plain": [
       "'Muhammad Arif Pabbani'"
      ]
     },
     "execution_count": 34,
     "metadata": {},
     "output_type": "execute_result"
    }
   ],
   "source": [
    "nama_guweh.replace('R', 'P')"
   ]
  },
  {
   "cell_type": "code",
   "execution_count": 35,
   "id": "7c35649a-526c-4191-8a89-e735d6451461",
   "metadata": {},
   "outputs": [
    {
     "data": {
      "text/plain": [
       "'Muhammad Urif Rabbani'"
      ]
     },
     "execution_count": 35,
     "metadata": {},
     "output_type": "execute_result"
    }
   ],
   "source": [
    "nama_guweh.replace('A', 'U')"
   ]
  },
  {
   "cell_type": "code",
   "execution_count": 36,
   "id": "241bf3d3-44e3-465b-b8d9-53e3026589d5",
   "metadata": {},
   "outputs": [
    {
     "data": {
      "text/plain": [
       "'Muhummud Arif Rubbuni'"
      ]
     },
     "execution_count": 36,
     "metadata": {},
     "output_type": "execute_result"
    }
   ],
   "source": [
    "nama_guweh.replace('a', 'u')"
   ]
  },
  {
   "cell_type": "code",
   "execution_count": 37,
   "id": "4444d8c1-8551-468d-8603-c8623d3e6237",
   "metadata": {},
   "outputs": [
    {
     "data": {
      "text/plain": [
       "'Muhammad Arif Rabbani'"
      ]
     },
     "execution_count": 37,
     "metadata": {},
     "output_type": "execute_result"
    }
   ],
   "source": [
    "nama_guweh"
   ]
  },
  {
   "cell_type": "code",
   "execution_count": 38,
   "id": "3ae533ac-0941-4c9b-b70a-7e5210d22e0c",
   "metadata": {},
   "outputs": [
    {
     "name": "stdout",
     "output_type": "stream",
     "text": [
      "3\n",
      "2\n",
      "1\n"
     ]
    }
   ],
   "source": [
    "print(a)\n",
    "print(b)\n",
    "print(c)"
   ]
  },
  {
   "cell_type": "code",
   "execution_count": 39,
   "id": "f9c11d83-3f42-44d0-b12c-366d957b053b",
   "metadata": {},
   "outputs": [
    {
     "data": {
      "text/plain": [
       "0"
      ]
     },
     "execution_count": 39,
     "metadata": {},
     "output_type": "execute_result"
    }
   ],
   "source": [
    "d"
   ]
  },
  {
   "cell_type": "code",
   "execution_count": 40,
   "id": "81ade462-448b-405c-bf94-4639e98bd54f",
   "metadata": {},
   "outputs": [
    {
     "data": {
      "text/plain": [
       "True"
      ]
     },
     "execution_count": 40,
     "metadata": {},
     "output_type": "execute_result"
    }
   ],
   "source": [
    "not((a+b-c)*(a-b) == 10)"
   ]
  },
  {
   "cell_type": "code",
   "execution_count": 41,
   "id": "39db5f40-64eb-47bf-a90c-4dfb688168f2",
   "metadata": {},
   "outputs": [
    {
     "data": {
      "text/plain": [
       "True"
      ]
     },
     "execution_count": 41,
     "metadata": {},
     "output_type": "execute_result"
    }
   ],
   "source": [
    "(not(a+b-c)*(a-b) == 10) and ((a+b-c)*(a-b) > ((a+b-c)*(a-b))/a*b)"
   ]
  },
  {
   "cell_type": "code",
   "execution_count": 42,
   "id": "3372c972-32b5-4f2c-b8f8-cb88cbb86624",
   "metadata": {},
   "outputs": [
    {
     "data": {
      "text/plain": [
       "True"
      ]
     },
     "execution_count": 42,
     "metadata": {},
     "output_type": "execute_result"
    }
   ],
   "source": [
    "((a+b-c)*(a-b) == 10) or ((a+b-c)*(a-b) > ((a+b-c)*(a-b))/a*b)"
   ]
  },
  {
   "cell_type": "code",
   "execution_count": 43,
   "id": "e2d4a242-1872-4279-a34f-e8fa3908d400",
   "metadata": {},
   "outputs": [
    {
     "data": {
      "text/plain": [
       "True"
      ]
     },
     "execution_count": 43,
     "metadata": {},
     "output_type": "execute_result"
    }
   ],
   "source": [
    "kategori = 'makanan'\n",
    "jumlah_order = 67\n",
    "jumlah_visit = 102\n",
    "\n",
    "(not(kategori == 'sepeda')) and (jumlah_visit >= 100) and (jumlah_order >= 60)"
   ]
  },
  {
   "cell_type": "code",
   "execution_count": 44,
   "id": "35f5d12e-556a-49fc-b5bd-61be3e6f0106",
   "metadata": {},
   "outputs": [],
   "source": [
    "list_1 = []\n",
    "list_nilai = [1,2,3,4,7]\n",
    "list_campuran = [1, 'Surabaya', 2.3, True]\n",
    "list_buah = ['Jeruk', 'Semangka', 'Rambutan', 'Mangga', 'Melon']"
   ]
  },
  {
   "cell_type": "code",
   "execution_count": 45,
   "id": "a6a31195-5dfd-4b92-9628-22b8d60776ae",
   "metadata": {},
   "outputs": [
    {
     "data": {
      "text/plain": [
       "'Jeruk'"
      ]
     },
     "execution_count": 45,
     "metadata": {},
     "output_type": "execute_result"
    }
   ],
   "source": [
    "list_buah[0]"
   ]
  },
  {
   "cell_type": "code",
   "execution_count": 46,
   "id": "cfb72a6d-c1d2-4519-8b7e-d3b24a3df682",
   "metadata": {},
   "outputs": [
    {
     "data": {
      "text/plain": [
       "'Mangga'"
      ]
     },
     "execution_count": 46,
     "metadata": {},
     "output_type": "execute_result"
    }
   ],
   "source": [
    "list_buah[-2]"
   ]
  },
  {
   "cell_type": "code",
   "execution_count": 47,
   "id": "bd4e9bb8-d242-4f62-bb6c-fe368a8ec64a",
   "metadata": {},
   "outputs": [
    {
     "data": {
      "text/plain": [
       "['Semangka', 'Rambutan', 'Mangga']"
      ]
     },
     "execution_count": 47,
     "metadata": {},
     "output_type": "execute_result"
    }
   ],
   "source": [
    "list_buah[1:4]"
   ]
  },
  {
   "cell_type": "code",
   "execution_count": 48,
   "id": "3c71d04b-e16a-4f5d-a2ea-799da9970627",
   "metadata": {},
   "outputs": [
    {
     "name": "stdout",
     "output_type": "stream",
     "text": [
      "Jeruk\n"
     ]
    }
   ],
   "source": [
    "print(list_buah[0])"
   ]
  },
  {
   "cell_type": "code",
   "execution_count": 49,
   "id": "47ab6094-3081-4a8a-b7d8-f025a3342bd5",
   "metadata": {},
   "outputs": [
    {
     "name": "stdout",
     "output_type": "stream",
     "text": [
      "['Semangka', 'Rambutan', 'Mangga']\n"
     ]
    }
   ],
   "source": [
    "print(list_buah[1:4])"
   ]
  },
  {
   "cell_type": "code",
   "execution_count": 50,
   "id": "6120fbc3-ab0f-49b9-a2c5-316bcc2386ce",
   "metadata": {},
   "outputs": [
    {
     "data": {
      "text/plain": [
       "['Jeruk', 'Semangka', 'Rambutan', 'Mangga']"
      ]
     },
     "execution_count": 50,
     "metadata": {},
     "output_type": "execute_result"
    }
   ],
   "source": [
    "list_buah[:4]"
   ]
  },
  {
   "cell_type": "code",
   "execution_count": 51,
   "id": "fdd8f121-9092-464a-8c87-52d02b3cbedd",
   "metadata": {},
   "outputs": [
    {
     "data": {
      "text/plain": [
       "['Jeruk', 'Semangka', 'Rambutan', 'Mangga']"
      ]
     },
     "execution_count": 51,
     "metadata": {},
     "output_type": "execute_result"
    }
   ],
   "source": [
    "list_buah[:4]"
   ]
  },
  {
   "cell_type": "code",
   "execution_count": 52,
   "id": "34802ceb-550d-48da-ac8b-ee911e64bbb0",
   "metadata": {},
   "outputs": [
    {
     "data": {
      "text/plain": [
       "['Rambutan', 'Mangga', 'Melon']"
      ]
     },
     "execution_count": 52,
     "metadata": {},
     "output_type": "execute_result"
    }
   ],
   "source": [
    "list_buah[2:]"
   ]
  },
  {
   "cell_type": "code",
   "execution_count": 53,
   "id": "97354d25-1749-42b9-895a-3831984721e1",
   "metadata": {},
   "outputs": [
    {
     "data": {
      "text/plain": [
       "'Melon'"
      ]
     },
     "execution_count": 53,
     "metadata": {},
     "output_type": "execute_result"
    }
   ],
   "source": [
    "list_buah[4]"
   ]
  },
  {
   "cell_type": "code",
   "execution_count": 54,
   "id": "4381e614-74bb-448a-a894-c1a0d4c7918a",
   "metadata": {},
   "outputs": [
    {
     "data": {
      "text/plain": [
       "2.3"
      ]
     },
     "execution_count": 54,
     "metadata": {},
     "output_type": "execute_result"
    }
   ],
   "source": [
    "list_campuran[2]"
   ]
  },
  {
   "cell_type": "code",
   "execution_count": 55,
   "id": "bc9ceca1-fa70-43c0-83dd-504fb726fbc9",
   "metadata": {},
   "outputs": [
    {
     "data": {
      "text/plain": [
       "5"
      ]
     },
     "execution_count": 55,
     "metadata": {},
     "output_type": "execute_result"
    }
   ],
   "source": [
    "len(list_buah)"
   ]
  },
  {
   "cell_type": "code",
   "execution_count": 56,
   "id": "27879779-78ff-42f4-b466-3b56b0ecdf2f",
   "metadata": {},
   "outputs": [
    {
     "data": {
      "text/plain": [
       "5"
      ]
     },
     "execution_count": 56,
     "metadata": {},
     "output_type": "execute_result"
    }
   ],
   "source": [
    "len(list_nilai)"
   ]
  },
  {
   "cell_type": "code",
   "execution_count": 57,
   "id": "f1ead715-3025-4896-8ca5-4bb264b3e1b3",
   "metadata": {},
   "outputs": [
    {
     "data": {
      "text/plain": [
       "4"
      ]
     },
     "execution_count": 57,
     "metadata": {},
     "output_type": "execute_result"
    }
   ],
   "source": [
    "len(list_campuran)"
   ]
  },
  {
   "cell_type": "code",
   "execution_count": 58,
   "id": "9966adc2-2fca-4d5d-90f8-6c4beeef2b1a",
   "metadata": {},
   "outputs": [
    {
     "data": {
      "text/plain": [
       "['Jeruk', 'Semangka', 'Rambutan', 'Mangga', 'Melon']"
      ]
     },
     "execution_count": 58,
     "metadata": {},
     "output_type": "execute_result"
    }
   ],
   "source": [
    "list_buah"
   ]
  },
  {
   "cell_type": "code",
   "execution_count": 59,
   "id": "78262ff5-d22a-4224-882f-ca000101e7ab",
   "metadata": {},
   "outputs": [
    {
     "name": "stdout",
     "output_type": "stream",
     "text": [
      "[]\n"
     ]
    }
   ],
   "source": [
    "print(list_1)"
   ]
  },
  {
   "cell_type": "code",
   "execution_count": 60,
   "id": "418871f8-47cd-4277-82ec-c0be00dc118f",
   "metadata": {},
   "outputs": [
    {
     "name": "stdout",
     "output_type": "stream",
     "text": [
      "[]\n",
      "[1, 2, 3, 4, 7]\n",
      "[1, 'Surabaya', 2.3, True]\n"
     ]
    }
   ],
   "source": [
    "print(list_1)\n",
    "print(list_nilai)\n",
    "print(list_campuran)"
   ]
  },
  {
   "cell_type": "code",
   "execution_count": 61,
   "id": "ab81e66a-cc12-49ef-94a8-726256591580",
   "metadata": {},
   "outputs": [
    {
     "name": "stdout",
     "output_type": "stream",
     "text": [
      "[]\n",
      "[1, 2, 3, 4, 7]\n",
      "[1, 'Surabaya', 2.3, True]\n",
      "['Jeruk', 'Semangka', 'Rambutan', 'Mangga', 'Melon']\n"
     ]
    }
   ],
   "source": [
    "print(list_1)\n",
    "print(list_nilai)\n",
    "print(list_campuran)\n",
    "print(list_buah)"
   ]
  },
  {
   "cell_type": "code",
   "execution_count": 62,
   "id": "69563346-d30c-4f25-a602-dc910073adb1",
   "metadata": {},
   "outputs": [],
   "source": [
    "list_buah.append('Apel')"
   ]
  },
  {
   "cell_type": "code",
   "execution_count": 63,
   "id": "460f336b-9b45-43fb-a464-341dfdbc9a11",
   "metadata": {},
   "outputs": [
    {
     "data": {
      "text/plain": [
       "['Jeruk', 'Semangka', 'Rambutan', 'Mangga', 'Melon', 'Apel']"
      ]
     },
     "execution_count": 63,
     "metadata": {},
     "output_type": "execute_result"
    }
   ],
   "source": [
    "list_buah"
   ]
  },
  {
   "cell_type": "code",
   "execution_count": 64,
   "id": "bfa9ca0e-c2cd-4700-b0e4-93713b9e7b6c",
   "metadata": {},
   "outputs": [
    {
     "name": "stdout",
     "output_type": "stream",
     "text": [
      "['Jeruk', 'Semangka', 'Rambutan', 'Mangga', 'Melon', 'Apel']\n"
     ]
    }
   ],
   "source": [
    "print(list_buah)"
   ]
  },
  {
   "cell_type": "code",
   "execution_count": 65,
   "id": "eb5e1292-7701-4d9a-956b-c0b950b17941",
   "metadata": {},
   "outputs": [],
   "source": [
    "list_buah.insert(3,'Apel')"
   ]
  },
  {
   "cell_type": "code",
   "execution_count": 66,
   "id": "08b99cf5-9ddd-4247-9d14-d9ae5f029f12",
   "metadata": {},
   "outputs": [
    {
     "data": {
      "text/plain": [
       "['Jeruk', 'Semangka', 'Rambutan', 'Apel', 'Mangga', 'Melon', 'Apel']"
      ]
     },
     "execution_count": 66,
     "metadata": {},
     "output_type": "execute_result"
    }
   ],
   "source": [
    "list_buah"
   ]
  },
  {
   "cell_type": "code",
   "execution_count": 67,
   "id": "ea47525d-516d-4c0d-8813-c8f40581a2cb",
   "metadata": {},
   "outputs": [],
   "source": [
    "list_buah.remove('Apel')"
   ]
  },
  {
   "cell_type": "code",
   "execution_count": 68,
   "id": "58059e6d-ad87-41a2-b46f-230d0cb25ec0",
   "metadata": {},
   "outputs": [
    {
     "data": {
      "text/plain": [
       "['Jeruk', 'Semangka', 'Rambutan', 'Mangga', 'Melon', 'Apel']"
      ]
     },
     "execution_count": 68,
     "metadata": {},
     "output_type": "execute_result"
    }
   ],
   "source": [
    "list_buah"
   ]
  },
  {
   "cell_type": "code",
   "execution_count": 69,
   "id": "1d04c5fe-6dce-4d91-81d4-8b81327e0fc5",
   "metadata": {},
   "outputs": [],
   "source": [
    "list_buah.remove('Apel')"
   ]
  },
  {
   "cell_type": "code",
   "execution_count": 70,
   "id": "e743b96f-394d-4de5-a1e6-0ba3ed66e6cd",
   "metadata": {},
   "outputs": [
    {
     "data": {
      "text/plain": [
       "['Jeruk', 'Semangka', 'Rambutan', 'Mangga', 'Melon']"
      ]
     },
     "execution_count": 70,
     "metadata": {},
     "output_type": "execute_result"
    }
   ],
   "source": [
    "list_buah"
   ]
  },
  {
   "cell_type": "code",
   "execution_count": 71,
   "id": "5837285b-7d45-453e-b394-1e2decd0ea10",
   "metadata": {},
   "outputs": [],
   "source": [
    "list_nama = [\n",
    "    ['Bob', 'Anna', 'John'],\n",
    "    ['Andy', 'Eve', 'Elie'],\n",
    "    ['Josh', 'Ellen', 'David']\n",
    "]"
   ]
  },
  {
   "cell_type": "code",
   "execution_count": 72,
   "id": "864b6006-c937-48f3-9687-dcc54c4b0d68",
   "metadata": {},
   "outputs": [
    {
     "data": {
      "text/plain": [
       "['Josh', 'Ellen', 'David']"
      ]
     },
     "execution_count": 72,
     "metadata": {},
     "output_type": "execute_result"
    }
   ],
   "source": [
    "list_nama[2]"
   ]
  },
  {
   "cell_type": "code",
   "execution_count": 73,
   "id": "e45020df-9cc1-4644-8d9c-24749e6338e3",
   "metadata": {},
   "outputs": [
    {
     "data": {
      "text/plain": [
       "'Bob'"
      ]
     },
     "execution_count": 73,
     "metadata": {},
     "output_type": "execute_result"
    }
   ],
   "source": [
    "list_nama[0][0]"
   ]
  },
  {
   "cell_type": "code",
   "execution_count": 74,
   "id": "1305ef7e-d797-4c08-b98d-1137819f609b",
   "metadata": {},
   "outputs": [
    {
     "data": {
      "text/plain": [
       "['Anna', 'John']"
      ]
     },
     "execution_count": 74,
     "metadata": {},
     "output_type": "execute_result"
    }
   ],
   "source": [
    "list_nama[0][1:]"
   ]
  },
  {
   "cell_type": "code",
   "execution_count": 75,
   "id": "7d4322ce-ab50-4e4a-a807-6a0d5afd7187",
   "metadata": {},
   "outputs": [],
   "source": [
    "list_nama.append('Tom')"
   ]
  },
  {
   "cell_type": "code",
   "execution_count": 76,
   "id": "97b5437c-1b88-4b92-ad93-6086f3faf0ba",
   "metadata": {},
   "outputs": [
    {
     "data": {
      "text/plain": [
       "[['Bob', 'Anna', 'John'],\n",
       " ['Andy', 'Eve', 'Elie'],\n",
       " ['Josh', 'Ellen', 'David'],\n",
       " 'Tom']"
      ]
     },
     "execution_count": 76,
     "metadata": {},
     "output_type": "execute_result"
    }
   ],
   "source": [
    "list_nama"
   ]
  },
  {
   "cell_type": "code",
   "execution_count": 77,
   "id": "ebc4448a-6983-45fd-a190-18e205bbba01",
   "metadata": {},
   "outputs": [],
   "source": [
    "list_nama[0].append('Tom')"
   ]
  },
  {
   "cell_type": "code",
   "execution_count": 78,
   "id": "357b72aa-0007-4d9c-8799-6613ef7bbe93",
   "metadata": {},
   "outputs": [
    {
     "data": {
      "text/plain": [
       "[['Bob', 'Anna', 'John', 'Tom'],\n",
       " ['Andy', 'Eve', 'Elie'],\n",
       " ['Josh', 'Ellen', 'David'],\n",
       " 'Tom']"
      ]
     },
     "execution_count": 78,
     "metadata": {},
     "output_type": "execute_result"
    }
   ],
   "source": [
    "list_nama"
   ]
  },
  {
   "cell_type": "code",
   "execution_count": 79,
   "id": "4ecf3238-fd82-4220-afd8-167e5b34cd0c",
   "metadata": {},
   "outputs": [],
   "source": [
    "list_nama[0].remove('Tom')"
   ]
  },
  {
   "cell_type": "code",
   "execution_count": 80,
   "id": "56b5fa1e-6d89-4f01-a7dd-2cb3283fccfe",
   "metadata": {},
   "outputs": [
    {
     "data": {
      "text/plain": [
       "[['Bob', 'Anna', 'John'],\n",
       " ['Andy', 'Eve', 'Elie'],\n",
       " ['Josh', 'Ellen', 'David'],\n",
       " 'Tom']"
      ]
     },
     "execution_count": 80,
     "metadata": {},
     "output_type": "execute_result"
    }
   ],
   "source": [
    "list_nama"
   ]
  },
  {
   "cell_type": "code",
   "execution_count": 81,
   "id": "3836502b-c8ce-46fc-8492-b261d0e3f6b9",
   "metadata": {},
   "outputs": [],
   "source": [
    "list_nama.append('Tom')\n",
    "list_nama[0].append('Tom')\n",
    "list_nama[1].append('Tom')"
   ]
  },
  {
   "cell_type": "code",
   "execution_count": 82,
   "id": "2660ef10-8de6-42a1-8606-acbaf7632dec",
   "metadata": {},
   "outputs": [
    {
     "data": {
      "text/plain": [
       "[['Bob', 'Anna', 'John', 'Tom'],\n",
       " ['Andy', 'Eve', 'Elie', 'Tom'],\n",
       " ['Josh', 'Ellen', 'David'],\n",
       " 'Tom',\n",
       " 'Tom']"
      ]
     },
     "execution_count": 82,
     "metadata": {},
     "output_type": "execute_result"
    }
   ],
   "source": [
    "list_nama"
   ]
  },
  {
   "cell_type": "code",
   "execution_count": 83,
   "id": "9b8e8e4a-7138-404e-a92a-b6d46f1c9f30",
   "metadata": {},
   "outputs": [],
   "source": [
    "list_nama.remove('Tom')\n",
    "list_nama[0].remove('Tom')\n",
    "list_nama[1].remove('Tom')"
   ]
  },
  {
   "cell_type": "code",
   "execution_count": 84,
   "id": "59b94f1f-54d2-4c34-ae8f-6776a732958b",
   "metadata": {},
   "outputs": [
    {
     "data": {
      "text/plain": [
       "[['Bob', 'Anna', 'John'],\n",
       " ['Andy', 'Eve', 'Elie'],\n",
       " ['Josh', 'Ellen', 'David'],\n",
       " 'Tom']"
      ]
     },
     "execution_count": 84,
     "metadata": {},
     "output_type": "execute_result"
    }
   ],
   "source": [
    "list_nama"
   ]
  },
  {
   "cell_type": "code",
   "execution_count": 85,
   "id": "cce20def-d257-409c-b5ea-91b8c5cef782",
   "metadata": {},
   "outputs": [],
   "source": [
    "my_dict = {'Alex' : 5,\n",
    "           'Ben' : 10,\n",
    "           'Carly' : 12,\n",
    "           'Danielle' : 7,\n",
    "           'Evan' : 6}"
   ]
  },
  {
   "cell_type": "code",
   "execution_count": 86,
   "id": "3c3aec5a-5b44-4774-a583-7381370cba75",
   "metadata": {},
   "outputs": [],
   "source": [
    "dict1 = {\n",
    "    'Names': ['Alan', 'Peter', 'John'],\n",
    "    'Ages': [12, 41, 30],\n",
    "    'Levels': [5, 2, 1]\n",
    "}"
   ]
  },
  {
   "cell_type": "code",
   "execution_count": 87,
   "id": "5b77cf4b-3d1a-4bde-a5af-2b48fc8d8782",
   "metadata": {},
   "outputs": [],
   "source": [
    "profile_user = {\n",
    "    'Nama': 'Bob',\n",
    "    'Umur': '30', \n",
    "    'Tempat_tinggal': 'Bandung'}"
   ]
  },
  {
   "cell_type": "code",
   "execution_count": 88,
   "id": "55b6c973-4e4b-428c-8867-bfef17fde58f",
   "metadata": {},
   "outputs": [
    {
     "data": {
      "text/plain": [
       "{'Nama': 'Bob', 'Umur': '30', 'Tempat_tinggal': 'Bandung'}"
      ]
     },
     "execution_count": 88,
     "metadata": {},
     "output_type": "execute_result"
    }
   ],
   "source": [
    "profile_user"
   ]
  },
  {
   "cell_type": "code",
   "execution_count": 89,
   "id": "1046f9e2-38fe-4823-97df-b755b95caf01",
   "metadata": {},
   "outputs": [],
   "source": [
    "profile = {\n",
    "    'nama': ['Bob', 'Tom', 'Andy'],\n",
    "    'umur': [30, 22, 26],\n",
    "    'tempat_tinggal': ['Bandung', 'Jakarta', 'Bogor']\n",
    "}"
   ]
  },
  {
   "cell_type": "code",
   "execution_count": 90,
   "id": "5725aa56-a7e2-4f80-99e2-a09ffab31dc1",
   "metadata": {},
   "outputs": [
    {
     "data": {
      "text/plain": [
       "{'nama': ['Bob', 'Tom', 'Andy'],\n",
       " 'umur': [30, 22, 26],\n",
       " 'tempat_tinggal': ['Bandung', 'Jakarta', 'Bogor']}"
      ]
     },
     "execution_count": 90,
     "metadata": {},
     "output_type": "execute_result"
    }
   ],
   "source": [
    "profile"
   ]
  },
  {
   "cell_type": "code",
   "execution_count": 91,
   "id": "919f813e-0c8f-494c-bcfc-d77e5411b825",
   "metadata": {},
   "outputs": [
    {
     "data": {
      "text/plain": [
       "dict_keys(['nama', 'umur', 'tempat_tinggal'])"
      ]
     },
     "execution_count": 91,
     "metadata": {},
     "output_type": "execute_result"
    }
   ],
   "source": [
    "dict.keys(profile)"
   ]
  },
  {
   "cell_type": "code",
   "execution_count": 92,
   "id": "04200534-2ffb-4bb6-a63a-27e1217d42b5",
   "metadata": {},
   "outputs": [
    {
     "data": {
      "text/plain": [
       "['Bob', 'Tom', 'Andy']"
      ]
     },
     "execution_count": 92,
     "metadata": {},
     "output_type": "execute_result"
    }
   ],
   "source": [
    "profile['nama']"
   ]
  },
  {
   "cell_type": "code",
   "execution_count": 93,
   "id": "041d598a-5016-42e9-a611-9ef506cdd500",
   "metadata": {},
   "outputs": [
    {
     "data": {
      "text/plain": [
       "[30, 22, 26]"
      ]
     },
     "execution_count": 93,
     "metadata": {},
     "output_type": "execute_result"
    }
   ],
   "source": [
    "profile['umur']"
   ]
  },
  {
   "cell_type": "code",
   "execution_count": 94,
   "id": "22d62116-ec50-474e-b673-6c00cdd20e75",
   "metadata": {},
   "outputs": [
    {
     "data": {
      "text/plain": [
       "['Bandung', 'Jakarta', 'Bogor']"
      ]
     },
     "execution_count": 94,
     "metadata": {},
     "output_type": "execute_result"
    }
   ],
   "source": [
    "profile['tempat_tinggal']"
   ]
  },
  {
   "cell_type": "code",
   "execution_count": 95,
   "id": "274e86a4-dae2-4f33-9a80-60d183981184",
   "metadata": {},
   "outputs": [
    {
     "data": {
      "text/plain": [
       "'Bob'"
      ]
     },
     "execution_count": 95,
     "metadata": {},
     "output_type": "execute_result"
    }
   ],
   "source": [
    "profile['nama'][0]"
   ]
  },
  {
   "cell_type": "code",
   "execution_count": 96,
   "id": "5c83b546-3f79-4a30-a6fe-94214be4b32d",
   "metadata": {},
   "outputs": [
    {
     "data": {
      "text/plain": [
       "['Bandung', 'Jakarta', 'Bogor']"
      ]
     },
     "execution_count": 96,
     "metadata": {},
     "output_type": "execute_result"
    }
   ],
   "source": [
    "profile['tempat_tinggal']"
   ]
  },
  {
   "cell_type": "code",
   "execution_count": 97,
   "id": "fbfdcfcc-7141-4ab2-9bb7-178201b8057c",
   "metadata": {},
   "outputs": [
    {
     "data": {
      "text/plain": [
       "'Peter'"
      ]
     },
     "execution_count": 97,
     "metadata": {},
     "output_type": "execute_result"
    }
   ],
   "source": [
    "dict1['Names'][1]"
   ]
  },
  {
   "cell_type": "code",
   "execution_count": 98,
   "id": "36858c54-c063-4502-befb-829d35908e1e",
   "metadata": {},
   "outputs": [],
   "source": [
    "profile.update({'id':['C1','C2','C3']})"
   ]
  },
  {
   "cell_type": "code",
   "execution_count": 99,
   "id": "ce7a8378-b100-4708-9c77-36528d12be41",
   "metadata": {},
   "outputs": [
    {
     "data": {
      "text/plain": [
       "{'nama': ['Bob', 'Tom', 'Andy'],\n",
       " 'umur': [30, 22, 26],\n",
       " 'tempat_tinggal': ['Bandung', 'Jakarta', 'Bogor'],\n",
       " 'id': ['C1', 'C2', 'C3']}"
      ]
     },
     "execution_count": 99,
     "metadata": {},
     "output_type": "execute_result"
    }
   ],
   "source": [
    "profile"
   ]
  },
  {
   "cell_type": "code",
   "execution_count": 100,
   "id": "41cfa42e-f8ea-4222-afd5-fbffa616b1c3",
   "metadata": {},
   "outputs": [],
   "source": [
    "del profile['id']"
   ]
  },
  {
   "cell_type": "code",
   "execution_count": 101,
   "id": "05814e2e-e5a0-4d4d-ac37-23828aadc33d",
   "metadata": {},
   "outputs": [
    {
     "data": {
      "text/plain": [
       "{'nama': ['Bob', 'Tom', 'Andy'],\n",
       " 'umur': [30, 22, 26],\n",
       " 'tempat_tinggal': ['Bandung', 'Jakarta', 'Bogor']}"
      ]
     },
     "execution_count": 101,
     "metadata": {},
     "output_type": "execute_result"
    }
   ],
   "source": [
    "profile"
   ]
  },
  {
   "cell_type": "code",
   "execution_count": 102,
   "id": "379a44fe-8f38-46f1-9944-2505ddfac455",
   "metadata": {},
   "outputs": [
    {
     "data": {
      "text/plain": [
       "{'nama': ['Bob', 'Tom', 'Andy'],\n",
       " 'umur': [30, 22, 26],\n",
       " 'tempat_tinggal': ['Bandung', 'Jakarta', 'Bogor']}"
      ]
     },
     "execution_count": 102,
     "metadata": {},
     "output_type": "execute_result"
    }
   ],
   "source": [
    "profile"
   ]
  },
  {
   "cell_type": "code",
   "execution_count": 103,
   "id": "265195b7-50ff-42c0-a8d6-f7db0b6ad08d",
   "metadata": {},
   "outputs": [
    {
     "ename": "KeyError",
     "evalue": "', id'",
     "output_type": "error",
     "traceback": [
      "\u001b[1;31m---------------------------------------------------------------------------\u001b[0m",
      "\u001b[1;31mKeyError\u001b[0m                                  Traceback (most recent call last)",
      "Cell \u001b[1;32mIn[103], line 1\u001b[0m\n\u001b[1;32m----> 1\u001b[0m \u001b[38;5;28;01mdel\u001b[39;00m \u001b[43mprofile\u001b[49m\u001b[43m[\u001b[49m\u001b[38;5;124;43m'\u001b[39;49m\u001b[38;5;124;43m, id\u001b[39;49m\u001b[38;5;124;43m'\u001b[39;49m\u001b[43m]\u001b[49m\n",
      "\u001b[1;31mKeyError\u001b[0m: ', id'"
     ]
    }
   ],
   "source": [
    "del profile[', id']"
   ]
  },
  {
   "cell_type": "code",
   "execution_count": 104,
   "id": "6cc2ee27-7cbf-4abc-8f74-8955ae914357",
   "metadata": {},
   "outputs": [
    {
     "data": {
      "text/plain": [
       "{'nama': ['Bob', 'Tom', 'Andy'],\n",
       " 'umur': [30, 22, 26],\n",
       " 'tempat_tinggal': ['Bandung', 'Jakarta', 'Bogor']}"
      ]
     },
     "execution_count": 104,
     "metadata": {},
     "output_type": "execute_result"
    }
   ],
   "source": [
    "profile"
   ]
  },
  {
   "cell_type": "code",
   "execution_count": 105,
   "id": "d73528b2-1f97-43fa-b7de-393a8d55b8cd",
   "metadata": {},
   "outputs": [
    {
     "name": "stdout",
     "output_type": "stream",
     "text": [
      "bilangan positif\n"
     ]
    }
   ],
   "source": [
    "i = 3\n",
    "if i>0:\n",
    "    print('bilangan positif')\n",
    "else:\n",
    "    print('bukan bilangan positif')"
   ]
  },
  {
   "cell_type": "code",
   "execution_count": 106,
   "id": "f2e47259-26ff-4661-8303-4ecd2f113c35",
   "metadata": {},
   "outputs": [
    {
     "data": {
      "text/plain": [
       "3"
      ]
     },
     "execution_count": 106,
     "metadata": {},
     "output_type": "execute_result"
    }
   ],
   "source": [
    "i"
   ]
  },
  {
   "cell_type": "code",
   "execution_count": 107,
   "id": "367a5510-b9a6-4de8-ab9c-6ac354eaafe5",
   "metadata": {},
   "outputs": [
    {
     "name": "stdout",
     "output_type": "stream",
     "text": [
      "bilangan positif\n"
     ]
    }
   ],
   "source": [
    "if i>0:\n",
    "    print('bilangan positif')\n",
    "elif i==0:\n",
    "    print('bilangan nol')\n",
    "else:\n",
    "    print('bilangan negatif')"
   ]
  },
  {
   "cell_type": "code",
   "execution_count": 108,
   "id": "e8fbf6e4-f7bf-4726-afbb-ccff6a25d852",
   "metadata": {},
   "outputs": [
    {
     "name": "stdout",
     "output_type": "stream",
     "text": [
      "4\n",
      "3\n"
     ]
    }
   ],
   "source": [
    "if i>0:\n",
    "    j = i\n",
    "    i = i + 1\n",
    "    print(i)\n",
    "    print(j)\n",
    "else:\n",
    "    j = 0\n",
    "    i = 0\n",
    "    print(i)\n",
    "    print(j)"
   ]
  },
  {
   "cell_type": "code",
   "execution_count": 109,
   "id": "d2418ea1-39c8-4376-9ad5-286640a9ccdc",
   "metadata": {},
   "outputs": [
    {
     "name": "stdout",
     "output_type": "stream",
     "text": [
      "5\n",
      "4\n"
     ]
    }
   ],
   "source": [
    "if i>0:\n",
    "    j = i\n",
    "    i = i + 1\n",
    "    print(i)\n",
    "    print(j)\n",
    "elif i==0:\n",
    "    j = 0\n",
    "    i = 0\n",
    "    print(i)\n",
    "    print(j)\n",
    "else:\n",
    "    j = '-'\n",
    "    i = '-'\n",
    "    print(i)\n",
    "    print(j)"
   ]
  },
  {
   "cell_type": "code",
   "execution_count": 110,
   "id": "8371b0e5-b248-4aa8-aaad-8324807b944d",
   "metadata": {},
   "outputs": [
    {
     "data": {
      "text/plain": [
       "5"
      ]
     },
     "execution_count": 110,
     "metadata": {},
     "output_type": "execute_result"
    }
   ],
   "source": [
    "i"
   ]
  },
  {
   "cell_type": "code",
   "execution_count": 111,
   "id": "0afb4e4f-7401-47e6-bd76-2e930b37777c",
   "metadata": {},
   "outputs": [],
   "source": [
    "i = 3"
   ]
  },
  {
   "cell_type": "code",
   "execution_count": 112,
   "id": "b1ef0ee2-ce83-4f9b-8f61-1b2557ebf823",
   "metadata": {},
   "outputs": [
    {
     "data": {
      "text/plain": [
       "3"
      ]
     },
     "execution_count": 112,
     "metadata": {},
     "output_type": "execute_result"
    }
   ],
   "source": [
    "i"
   ]
  },
  {
   "cell_type": "code",
   "execution_count": 113,
   "id": "6c6f21bc-d826-49fe-a2ef-f1504962d553",
   "metadata": {},
   "outputs": [],
   "source": [
    "i = -3"
   ]
  },
  {
   "cell_type": "code",
   "execution_count": 114,
   "id": "5f962610-3a50-4a32-a86c-69835577b3fe",
   "metadata": {},
   "outputs": [
    {
     "data": {
      "text/plain": [
       "-3"
      ]
     },
     "execution_count": 114,
     "metadata": {},
     "output_type": "execute_result"
    }
   ],
   "source": [
    "i"
   ]
  },
  {
   "cell_type": "code",
   "execution_count": 115,
   "id": "652a8bfa-dd21-4069-b290-d0acd6b548dd",
   "metadata": {},
   "outputs": [
    {
     "name": "stdout",
     "output_type": "stream",
     "text": [
      "-\n",
      "-\n"
     ]
    }
   ],
   "source": [
    "if i>0:\n",
    "    j = i\n",
    "    i = i + 1\n",
    "    print(i)\n",
    "    print(j)\n",
    "elif i==0:\n",
    "    j = 0\n",
    "    i = 0\n",
    "    print(i)\n",
    "    print(j)\n",
    "else:\n",
    "    j = '-'\n",
    "    i = '-'\n",
    "    print(i)\n",
    "    print(j)"
   ]
  },
  {
   "cell_type": "code",
   "execution_count": 116,
   "id": "9e8856fe-ecef-437c-8752-f2a196f51cba",
   "metadata": {},
   "outputs": [
    {
     "data": {
      "text/plain": [
       "'-'"
      ]
     },
     "execution_count": 116,
     "metadata": {},
     "output_type": "execute_result"
    }
   ],
   "source": [
    "i"
   ]
  },
  {
   "cell_type": "code",
   "execution_count": 117,
   "id": "9e8a8437-456d-4d8e-9517-b8df014f7b63",
   "metadata": {},
   "outputs": [],
   "source": [
    "i = -3"
   ]
  },
  {
   "cell_type": "code",
   "execution_count": 118,
   "id": "0ec302d7-32a9-4d5d-a922-8886a0036c80",
   "metadata": {},
   "outputs": [
    {
     "name": "stdout",
     "output_type": "stream",
     "text": [
      "bilangan negatif\n"
     ]
    }
   ],
   "source": [
    "if i>0:\n",
    "    print('bilangan positif')\n",
    "elif i==0:\n",
    "    print('bilangan nol')\n",
    "else:\n",
    "    print('bilangan negatif')"
   ]
  },
  {
   "cell_type": "code",
   "execution_count": 119,
   "id": "abb2e914-f259-4318-97d1-9b1b69668ba7",
   "metadata": {},
   "outputs": [
    {
     "name": "stdout",
     "output_type": "stream",
     "text": [
      "0\n",
      "0\n"
     ]
    }
   ],
   "source": [
    "if i>0:\n",
    "    j = i\n",
    "    i = i + 1\n",
    "    print(i)\n",
    "    print(j)\n",
    "else:\n",
    "    j = 0\n",
    "    i = 0\n",
    "    print(i)\n",
    "    print(j)"
   ]
  },
  {
   "cell_type": "code",
   "execution_count": 120,
   "id": "9820f5ba-784f-4cbe-91f6-f0349f351f11",
   "metadata": {},
   "outputs": [
    {
     "data": {
      "text/plain": [
       "0"
      ]
     },
     "execution_count": 120,
     "metadata": {},
     "output_type": "execute_result"
    }
   ],
   "source": [
    "i"
   ]
  },
  {
   "cell_type": "code",
   "execution_count": 121,
   "id": "079a0ec7-cc7e-45a3-8a13-ea85a0b595df",
   "metadata": {},
   "outputs": [],
   "source": [
    "a = ['foo', 'bar', 'baz']"
   ]
  },
  {
   "cell_type": "code",
   "execution_count": 122,
   "id": "41aeb2bc-d533-4551-8d4d-faa8ae3f45c3",
   "metadata": {},
   "outputs": [
    {
     "name": "stdout",
     "output_type": "stream",
     "text": [
      "foo\n",
      "bar\n",
      "baz\n"
     ]
    }
   ],
   "source": [
    "for i in a:\n",
    "    print(i)"
   ]
  },
  {
   "cell_type": "code",
   "execution_count": 123,
   "id": "b2febba0-d768-4a10-8f98-aa102ffdfb02",
   "metadata": {},
   "outputs": [
    {
     "name": "stdout",
     "output_type": "stream",
     "text": [
      "iterasi ke - 0\n",
      "iterasi ke - 1\n",
      "iterasi ke - 2\n",
      "iterasi ke - 3\n",
      "iterasi ke - 4\n",
      "iterasi ke - 5\n",
      "iterasi ke - 6\n",
      "iterasi ke - 7\n",
      "iterasi ke - 8\n",
      "iterasi ke - 9\n"
     ]
    }
   ],
   "source": [
    "for i in range(10):\n",
    "    print('iterasi ke -', i)"
   ]
  },
  {
   "cell_type": "code",
   "execution_count": 124,
   "id": "ea1a47ea-d448-48ae-8254-b8afc7a1180d",
   "metadata": {},
   "outputs": [
    {
     "name": "stdout",
     "output_type": "stream",
     "text": [
      "0\n",
      "1\n",
      "2\n",
      "3\n",
      "4\n",
      "5\n",
      "6\n",
      "7\n",
      "8\n",
      "9\n"
     ]
    }
   ],
   "source": [
    "for i in range(10):\n",
    "    print(i)"
   ]
  },
  {
   "cell_type": "code",
   "execution_count": 125,
   "id": "10d14fc4-b32d-4b45-8e25-c020b843d45d",
   "metadata": {},
   "outputs": [
    {
     "name": "stdout",
     "output_type": "stream",
     "text": [
      "number  0\n",
      "number  1\n",
      "number  2\n",
      "number  3\n",
      "number  4\n",
      "number  5\n",
      "number  6\n",
      "number  7\n",
      "number  8\n",
      "number  9\n"
     ]
    }
   ],
   "source": [
    "for i in range(10):\n",
    "    print('number ', i)"
   ]
  },
  {
   "cell_type": "code",
   "execution_count": 126,
   "id": "b3fbb76f-6dc5-4804-a9ab-c1877f2839e1",
   "metadata": {},
   "outputs": [
    {
     "data": {
      "text/plain": [
       "9"
      ]
     },
     "execution_count": 126,
     "metadata": {},
     "output_type": "execute_result"
    }
   ],
   "source": [
    "i"
   ]
  },
  {
   "cell_type": "code",
   "execution_count": 127,
   "id": "bbefd42a-f7d1-4de8-83cb-c9243b96173a",
   "metadata": {},
   "outputs": [],
   "source": [
    "i = 0"
   ]
  },
  {
   "cell_type": "code",
   "execution_count": 128,
   "id": "ae8bdbdb-270c-4dd2-b439-4278df32adf1",
   "metadata": {},
   "outputs": [
    {
     "name": "stdout",
     "output_type": "stream",
     "text": [
      "0\n",
      "1\n",
      "2\n",
      "3\n",
      "4\n",
      "5\n"
     ]
    }
   ],
   "source": [
    "while i < 6:\n",
    "    print(i)\n",
    "    i = i + 1"
   ]
  },
  {
   "cell_type": "code",
   "execution_count": 129,
   "id": "c9468906-0990-4bb6-97ca-f04b8fa930e2",
   "metadata": {},
   "outputs": [
    {
     "name": "stdout",
     "output_type": "stream",
     "text": [
      "0\n",
      "1\n",
      "2\n",
      "3\n",
      "4\n",
      "5\n",
      "end\n"
     ]
    }
   ],
   "source": [
    "i = 0\n",
    "while i < 6:\n",
    "    print(i)\n",
    "    i = i + 1\n",
    "else:\n",
    "    print('end')"
   ]
  },
  {
   "cell_type": "code",
   "execution_count": 130,
   "id": "2785e1ce-0605-432f-8810-44810c3a4ad7",
   "metadata": {},
   "outputs": [
    {
     "name": "stdout",
     "output_type": "stream",
     "text": [
      "0\n",
      "1\n",
      "2\n",
      "3\n",
      "4\n",
      "5\n",
      "6\n",
      "7\n",
      "8\n",
      "9\n",
      "10\n"
     ]
    }
   ],
   "source": [
    "for i in range(100):\n",
    "    print(i)\n",
    "    if i == 10:\n",
    "        break"
   ]
  },
  {
   "cell_type": "code",
   "execution_count": 131,
   "id": "5d3f861d-5d08-4488-8701-3b6706e3985c",
   "metadata": {},
   "outputs": [
    {
     "name": "stdout",
     "output_type": "stream",
     "text": [
      "0\n",
      "1\n",
      "2\n",
      "3\n"
     ]
    }
   ],
   "source": [
    "i = 0\n",
    "while i < 6:\n",
    "    print(i)\n",
    "    if i == 3:\n",
    "        break\n",
    "    i += 1"
   ]
  },
  {
   "cell_type": "code",
   "execution_count": 132,
   "id": "98c07eaa-c959-401d-b4e4-7c9524c8b25e",
   "metadata": {},
   "outputs": [
    {
     "name": "stdout",
     "output_type": "stream",
     "text": [
      "0\n",
      "1\n",
      "2\n",
      "4\n"
     ]
    }
   ],
   "source": [
    "for i in range(5):\n",
    "    if i == 3:\n",
    "        continue\n",
    "    print(i)"
   ]
  },
  {
   "cell_type": "code",
   "execution_count": 133,
   "id": "880e00ef-49fc-44f6-9ca3-304ebcad68a4",
   "metadata": {},
   "outputs": [
    {
     "name": "stdout",
     "output_type": "stream",
     "text": [
      "0\n",
      "1\n",
      "2\n"
     ]
    }
   ],
   "source": [
    "i = 0\n",
    "while i < 6:\n",
    "    print(i)\n",
    "    i += 1\n",
    "    if i == 3:\n",
    "        break"
   ]
  },
  {
   "cell_type": "code",
   "execution_count": 134,
   "id": "2a7fba06-e25d-4efb-8993-d2af8ec6d457",
   "metadata": {},
   "outputs": [
    {
     "name": "stdout",
     "output_type": "stream",
     "text": [
      "0\n",
      "1\n",
      "2\n",
      "3\n",
      "4\n",
      "5\n"
     ]
    }
   ],
   "source": [
    "i = 0\n",
    "while i < 6:\n",
    "    print(i)\n",
    "    i += 1"
   ]
  },
  {
   "cell_type": "code",
   "execution_count": 135,
   "id": "94824e64-35d9-4a42-907c-e59c5bfcc24a",
   "metadata": {},
   "outputs": [
    {
     "name": "stdout",
     "output_type": "stream",
     "text": [
      "1\n",
      "2\n",
      "4\n",
      "5\n",
      "6\n"
     ]
    }
   ],
   "source": [
    "i = 0\n",
    "while i < 6:    \n",
    "    i += 1\n",
    "    if i == 3:\n",
    "        continue\n",
    "    print(i)"
   ]
  },
  {
   "cell_type": "code",
   "execution_count": 136,
   "id": "767f341c-9156-4f52-943c-cf2e144b4cd3",
   "metadata": {},
   "outputs": [
    {
     "name": "stdout",
     "output_type": "stream",
     "text": [
      "0\n",
      "1\n",
      "2\n",
      "3\n",
      "4\n",
      "5\n",
      "6\n",
      "7\n",
      "8\n",
      "9\n"
     ]
    }
   ],
   "source": [
    "for i in range(100):    \n",
    "    if i == 10:\n",
    "        break\n",
    "    print(i)"
   ]
  },
  {
   "cell_type": "code",
   "execution_count": 137,
   "id": "b2336419-9ada-4aac-b7b4-37097142923c",
   "metadata": {},
   "outputs": [
    {
     "name": "stdout",
     "output_type": "stream",
     "text": [
      "1\n",
      "2\n",
      "3\n",
      "4\n",
      "5\n",
      "6\n"
     ]
    }
   ],
   "source": [
    "i = 0\n",
    "while i < 6:\n",
    "    i += 1\n",
    "    print(i)    "
   ]
  },
  {
   "cell_type": "code",
   "execution_count": 138,
   "id": "cd288bae-336a-420c-8b35-7b8515d29abe",
   "metadata": {},
   "outputs": [
    {
     "name": "stdout",
     "output_type": "stream",
     "text": [
      "5\n"
     ]
    }
   ],
   "source": [
    "i = 5\n",
    "while i < 6:\n",
    "    print(i)\n",
    "    i += 1"
   ]
  },
  {
   "cell_type": "code",
   "execution_count": 139,
   "id": "7234c108-3fd4-4958-8e4d-cda442c65592",
   "metadata": {},
   "outputs": [],
   "source": [
    "def sum_the_numbers (num1, num2):\n",
    "    total = num1 + num2\n",
    "    return total"
   ]
  },
  {
   "cell_type": "code",
   "execution_count": 140,
   "id": "889aba86-5994-439f-a0ad-e6ac6bd27d84",
   "metadata": {},
   "outputs": [
    {
     "data": {
      "text/plain": [
       "17"
      ]
     },
     "execution_count": 140,
     "metadata": {},
     "output_type": "execute_result"
    }
   ],
   "source": [
    "sum_the_numbers(10,7)"
   ]
  },
  {
   "cell_type": "code",
   "execution_count": 141,
   "id": "ea338a04-2260-483e-967d-85d5cd50a014",
   "metadata": {},
   "outputs": [],
   "source": [
    "a = sum_the_numbers(2,3)"
   ]
  },
  {
   "cell_type": "code",
   "execution_count": 142,
   "id": "1a34ccde-4d5f-4fcc-97e8-5537fed81ba1",
   "metadata": {},
   "outputs": [
    {
     "name": "stdout",
     "output_type": "stream",
     "text": [
      "5\n"
     ]
    }
   ],
   "source": [
    "print(a)"
   ]
  },
  {
   "cell_type": "code",
   "execution_count": 143,
   "id": "3d6400f9-2ad1-42da-b196-3fcdd3d022dc",
   "metadata": {},
   "outputs": [],
   "source": [
    "def sum_the_numbers (num1 = 0, num2 = 0):\n",
    "    total = num1 + num2\n",
    "    return total"
   ]
  },
  {
   "cell_type": "code",
   "execution_count": 144,
   "id": "e1d15237-e885-4e15-8044-6d4e7e386b8e",
   "metadata": {},
   "outputs": [
    {
     "data": {
      "text/plain": [
       "17"
      ]
     },
     "execution_count": 144,
     "metadata": {},
     "output_type": "execute_result"
    }
   ],
   "source": [
    "sum_the_numbers(10,7)"
   ]
  },
  {
   "cell_type": "code",
   "execution_count": 145,
   "id": "57ee4480-6521-4b7a-9edd-6d92eb2e418c",
   "metadata": {},
   "outputs": [
    {
     "data": {
      "text/plain": [
       "0"
      ]
     },
     "execution_count": 145,
     "metadata": {},
     "output_type": "execute_result"
    }
   ],
   "source": [
    "sum_the_numbers()"
   ]
  },
  {
   "cell_type": "code",
   "execution_count": 146,
   "id": "ba7ae2af-260c-46cc-9118-b018c97a7a48",
   "metadata": {},
   "outputs": [
    {
     "data": {
      "text/plain": [
       "True"
      ]
     },
     "execution_count": 146,
     "metadata": {},
     "output_type": "execute_result"
    }
   ],
   "source": [
    "kategori = 'Makanan'\n",
    "jumlah_order = 67\n",
    "jumlah_visit = 102\n",
    "\n",
    "(not (kategori == 'Sepeda')) and (jumlah_visit >= 100) and (jumlah_order >= 67)"
   ]
  },
  {
   "cell_type": "code",
   "execution_count": 147,
   "id": "220017a3-b811-4e62-a6b8-7aeda9722448",
   "metadata": {},
   "outputs": [
    {
     "data": {
      "text/plain": [
       "True"
      ]
     },
     "execution_count": 147,
     "metadata": {},
     "output_type": "execute_result"
    }
   ],
   "source": [
    "not ((kategori == 'Sepeda') and (jumlah_visit >= 100) and (jumlah_order >= 67))"
   ]
  },
  {
   "cell_type": "code",
   "execution_count": 1,
   "id": "f1d8407a-935c-463f-827b-97720ee8a18c",
   "metadata": {},
   "outputs": [],
   "source": [
    "import pandas as pd\n",
    "import numpy as np"
   ]
  }
 ],
 "metadata": {
  "kernelspec": {
   "display_name": "Python 3 (ipykernel)",
   "language": "python",
   "name": "python3"
  },
  "language_info": {
   "codemirror_mode": {
    "name": "ipython",
    "version": 3
   },
   "file_extension": ".py",
   "mimetype": "text/x-python",
   "name": "python",
   "nbconvert_exporter": "python",
   "pygments_lexer": "ipython3",
   "version": "3.12.3"
  },
  "toc-showcode": true
 },
 "nbformat": 4,
 "nbformat_minor": 5
}
